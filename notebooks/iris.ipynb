{
 "cells": [
  {
   "cell_type": "markdown",
   "metadata": {},
   "source": [
    "# For reprodutibility, we used the following 'versions' of the code and datasets\n",
    "- MINOTAUR commit used: https://github.com/Mirandatz/minotaur/tree/29c97d1ebc8b701c0dc4692df2f20b64616acbe3\n",
    "- DATASET commit used: https://github.com/Mirandatz/minotaur.datasets/tree/99240f2ead1037c6396aec0230caabb24b0ff443"
   ]
  },
  {
   "cell_type": "code",
   "execution_count": 1,
   "metadata": {},
   "outputs": [],
   "source": [
    "import sys\n",
    "import subprocess\n",
    "import os\n",
    "import pandas as pd"
   ]
  },
  {
   "cell_type": "code",
   "execution_count": 2,
   "metadata": {},
   "outputs": [],
   "source": [
    "MINOTAUR_LINE_SEP = '==============================================================================='\n",
    "MINOTAUR_PATH = r'C:\\Source\\minotaur\\Minotaur\\Minotaur\\bin\\x64\\Release\\netcoreapp3.0\\Minotaur.exe'\n",
    "DATASET_DIR = r'C:\\Source\\minotaur.datasets\\iris\\2-ready-for-minotaur'\n",
    "OUTPUT_DIR = r'C:\\Source\\minotaur.experiments\\notebooks\\iris-temp'\n",
    "FOLD_COUNT = 10"
   ]
  },
  {
   "cell_type": "code",
   "execution_count": 3,
   "metadata": {},
   "outputs": [],
   "source": [
    "# Create the output directories, if necessary\n",
    "if not os.path.isdir(OUTPUT_DIR):\n",
    "    os.mkdir(OUTPUT_DIR)\n",
    "        \n",
    "for fold_nr in range(FOLD_COUNT):\n",
    "    if not os.path.isdir(OUTPUT_DIR + f'\\\\fold-{fold_nr}'):\n",
    "        os.mkdir(OUTPUT_DIR + f'\\\\fold-{fold_nr}')"
   ]
  },
  {
   "cell_type": "markdown",
   "metadata": {},
   "source": [
    "#### In the next cells we run MINOTAUR for each fold of the dataset.\n",
    "\n",
    "The following command line arguments are mandatory; they are paths to csv files:\n",
    "- `--train-data`\n",
    "- `--train-labels`\n",
    "- `--test-data`\n",
    "- `--test-labels`\n",
    "\n",
    "The train files are used to guide the evolutionary process.\n",
    "The test files are used to compute the final population's fitnesses.\n",
    "\n",
    "The `--output-directory` argument defines a path for MINOTAUR to create its output files, `final-population-fitnesses.txt`, containing the fitnesses of the individuals from the final population, and `final-population-individuals.txt`, containing the individuals from the final population. Both files are stored in a human readable format; each individual is separated by a line of with containing only \"=\" symbols.\n",
    "\n",
    "The `--classification-type` argument defines how the dataset labels should be parsed and how the consequent of rules should be generated / modified. It also defines how some metrics (like FScore) are computed.\n",
    "\n",
    "The remaining arguments are self-explanatory"
   ]
  },
  {
   "cell_type": "code",
   "execution_count": 4,
   "metadata": {},
   "outputs": [],
   "source": [
    "def run_minotaur(formated_args: str):\n",
    "    subprocess_args = MINOTAUR_PATH + ' ' +  formated_args\n",
    "    subprocess.call(subprocess_args)"
   ]
  },
  {
   "cell_type": "code",
   "execution_count": 12,
   "metadata": {},
   "outputs": [
    {
     "name": "stdout",
     "output_type": "stream",
     "text": [
      "Wall time: 9.4 s\n"
     ]
    }
   ],
   "source": [
    "%%time\n",
    "dfs = []\n",
    "for fold_nr in range(FOLD_COUNT):\n",
    "    args = f'--train-data={DATASET_DIR}\\\\fold-{fold_nr}\\\\train-data.csv'\n",
    "    args += f' --train-labels={DATASET_DIR}\\\\fold-{fold_nr}\\\\train-labels.csv'\n",
    "    args += f' --test-data={DATASET_DIR}\\\\fold-{fold_nr}\\\\test-data.csv'\n",
    "    args += f' --test-labels={DATASET_DIR}\\\\fold-{fold_nr}\\\\test-labels.csv'\n",
    "    args += f' --output-directory={OUTPUT_DIR}\\\\fold-{fold_nr}'\n",
    "    args += f' --classification-type=singlelabel'\n",
    "    args += f' --max-generations=100'\n",
    "    args += f' --population-size=100'\n",
    "    run_minotaur(args)"
   ]
  },
  {
   "cell_type": "markdown",
   "metadata": {},
   "source": [
    "#### In the next cells we load, parse and post-process the outputs of MINOTAUR \n",
    "One of MINOTAUR's current implementation limitation is that it assumes that all objectives must be maximized, thus, in order to optimize the `rule-count` metric, we must compute is as negative value during the MINOTAUR's execution.\n",
    "In order to make `rule-count` more readable, after we parse it we multiply it by -1 to obtain the correct value."
   ]
  },
  {
   "cell_type": "code",
   "execution_count": 6,
   "metadata": {},
   "outputs": [],
   "source": [
    "def parse_fitnesses(filename: str) -> pd.DataFrame:\n",
    "    # The output of the algorithm, including the fitnesses,\n",
    "    # are stored in a human-readable format, so we must do some \n",
    "    # work to parse it\n",
    "    with open(filename, 'r') as file:\n",
    "        lines = file.readlines()\n",
    "        \n",
    "    # Removing 'line separators'\n",
    "    lines = [l for l in lines if MINOTAUR_LINE_SEP not in l]\n",
    "    \n",
    "    # Removing the endline, '[' and ']' characters\n",
    "    lines = [l[:-1].replace('[','').replace(']','').split(',') for l in lines]\n",
    "    \n",
    "    # Creating the dataframe, fixing the column names and data types\n",
    "    df = pd.DataFrame(lines)\n",
    "    df = df.rename(columns={0: 'fscore', 1:'rule-count', 2:'avg-rule-vol'})\n",
    "    df = df.astype({'fscore': 'float', 'rule-count':'int', 'avg-rule-vol':'float'})\n",
    "    return df"
   ]
  },
  {
   "cell_type": "code",
   "execution_count": 7,
   "metadata": {},
   "outputs": [],
   "source": [
    "for fold_nr in range(FOLD_COUNT):\n",
    "    df = parse_fitnesses(f'{OUTPUT_DIR}\\\\fold-{fold_nr}\\\\final-population-fitnesses.txt')\n",
    "    df['rule-count'] = df['rule-count'] * -1\n",
    "    df['fold'] = fold_nr\n",
    "    dfs.append(df)\n",
    "df = pd.concat(dfs)    "
   ]
  },
  {
   "cell_type": "code",
   "execution_count": 8,
   "metadata": {},
   "outputs": [
    {
     "data": {
      "text/html": [
       "<div>\n",
       "<style scoped>\n",
       "    .dataframe tbody tr th:only-of-type {\n",
       "        vertical-align: middle;\n",
       "    }\n",
       "\n",
       "    .dataframe tbody tr th {\n",
       "        vertical-align: top;\n",
       "    }\n",
       "\n",
       "    .dataframe thead th {\n",
       "        text-align: right;\n",
       "    }\n",
       "</style>\n",
       "<table border=\"1\" class=\"dataframe\">\n",
       "  <thead>\n",
       "    <tr style=\"text-align: right;\">\n",
       "      <th></th>\n",
       "      <th>fscore</th>\n",
       "      <th>rule-count</th>\n",
       "      <th>avg-rule-vol</th>\n",
       "      <th>fold</th>\n",
       "    </tr>\n",
       "  </thead>\n",
       "  <tbody>\n",
       "    <tr>\n",
       "      <td>0</td>\n",
       "      <td>0.738721</td>\n",
       "      <td>3</td>\n",
       "      <td>4.687600</td>\n",
       "      <td>0</td>\n",
       "    </tr>\n",
       "    <tr>\n",
       "      <td>1</td>\n",
       "      <td>0.738721</td>\n",
       "      <td>3</td>\n",
       "      <td>4.687600</td>\n",
       "      <td>0</td>\n",
       "    </tr>\n",
       "    <tr>\n",
       "      <td>2</td>\n",
       "      <td>0.731313</td>\n",
       "      <td>2</td>\n",
       "      <td>6.486499</td>\n",
       "      <td>0</td>\n",
       "    </tr>\n",
       "    <tr>\n",
       "      <td>3</td>\n",
       "      <td>0.678115</td>\n",
       "      <td>3</td>\n",
       "      <td>4.785832</td>\n",
       "      <td>0</td>\n",
       "    </tr>\n",
       "    <tr>\n",
       "      <td>4</td>\n",
       "      <td>0.678115</td>\n",
       "      <td>3</td>\n",
       "      <td>4.785832</td>\n",
       "      <td>0</td>\n",
       "    </tr>\n",
       "  </tbody>\n",
       "</table>\n",
       "</div>"
      ],
      "text/plain": [
       "     fscore  rule-count  avg-rule-vol  fold\n",
       "0  0.738721           3      4.687600     0\n",
       "1  0.738721           3      4.687600     0\n",
       "2  0.731313           2      6.486499     0\n",
       "3  0.678115           3      4.785832     0\n",
       "4  0.678115           3      4.785832     0"
      ]
     },
     "execution_count": 8,
     "metadata": {},
     "output_type": "execute_result"
    }
   ],
   "source": [
    "# Lets take a peek of the dataframe, Each line represents a given individuals fitness in a given fold.\n",
    "df.head()"
   ]
  },
  {
   "cell_type": "code",
   "execution_count": 9,
   "metadata": {},
   "outputs": [],
   "source": [
    "# Here we are select the best individual of each fold, with 'best' meaning highest f-score\n",
    "distinct_values = df.sort_values(by='fscore', ascending=False).drop_duplicates(['fold', 'fscore'])\n",
    "indices_of_best = distinct_values.groupby('fold')['fscore'].transform(max) == distinct_values['fscore']\n",
    "best_individuals = distinct_values[indices_of_best].sort_values(by='fold')"
   ]
  },
  {
   "cell_type": "code",
   "execution_count": 10,
   "metadata": {},
   "outputs": [
    {
     "data": {
      "text/html": [
       "<div>\n",
       "<style scoped>\n",
       "    .dataframe tbody tr th:only-of-type {\n",
       "        vertical-align: middle;\n",
       "    }\n",
       "\n",
       "    .dataframe tbody tr th {\n",
       "        vertical-align: top;\n",
       "    }\n",
       "\n",
       "    .dataframe thead th {\n",
       "        text-align: right;\n",
       "    }\n",
       "</style>\n",
       "<table border=\"1\" class=\"dataframe\">\n",
       "  <thead>\n",
       "    <tr style=\"text-align: right;\">\n",
       "      <th></th>\n",
       "      <th>fscore</th>\n",
       "      <th>rule-count</th>\n",
       "      <th>avg-rule-vol</th>\n",
       "      <th>fold</th>\n",
       "    </tr>\n",
       "  </thead>\n",
       "  <tbody>\n",
       "    <tr>\n",
       "      <td>0</td>\n",
       "      <td>0.738721</td>\n",
       "      <td>3</td>\n",
       "      <td>4.687600</td>\n",
       "      <td>0</td>\n",
       "    </tr>\n",
       "    <tr>\n",
       "      <td>0</td>\n",
       "      <td>0.932660</td>\n",
       "      <td>2</td>\n",
       "      <td>7.592149</td>\n",
       "      <td>1</td>\n",
       "    </tr>\n",
       "    <tr>\n",
       "      <td>1</td>\n",
       "      <td>0.780220</td>\n",
       "      <td>2</td>\n",
       "      <td>7.535749</td>\n",
       "      <td>2</td>\n",
       "    </tr>\n",
       "    <tr>\n",
       "      <td>56</td>\n",
       "      <td>0.865993</td>\n",
       "      <td>4</td>\n",
       "      <td>3.220600</td>\n",
       "      <td>3</td>\n",
       "    </tr>\n",
       "    <tr>\n",
       "      <td>58</td>\n",
       "      <td>0.932660</td>\n",
       "      <td>4</td>\n",
       "      <td>3.369175</td>\n",
       "      <td>4</td>\n",
       "    </tr>\n",
       "    <tr>\n",
       "      <td>26</td>\n",
       "      <td>0.866667</td>\n",
       "      <td>4</td>\n",
       "      <td>3.024350</td>\n",
       "      <td>5</td>\n",
       "    </tr>\n",
       "    <tr>\n",
       "      <td>13</td>\n",
       "      <td>0.866667</td>\n",
       "      <td>2</td>\n",
       "      <td>4.807399</td>\n",
       "      <td>6</td>\n",
       "    </tr>\n",
       "    <tr>\n",
       "      <td>9</td>\n",
       "      <td>0.866667</td>\n",
       "      <td>2</td>\n",
       "      <td>5.750599</td>\n",
       "      <td>7</td>\n",
       "    </tr>\n",
       "    <tr>\n",
       "      <td>0</td>\n",
       "      <td>0.664647</td>\n",
       "      <td>2</td>\n",
       "      <td>7.456299</td>\n",
       "      <td>8</td>\n",
       "    </tr>\n",
       "    <tr>\n",
       "      <td>5</td>\n",
       "      <td>1.000000</td>\n",
       "      <td>3</td>\n",
       "      <td>8.559334</td>\n",
       "      <td>9</td>\n",
       "    </tr>\n",
       "  </tbody>\n",
       "</table>\n",
       "</div>"
      ],
      "text/plain": [
       "      fscore  rule-count  avg-rule-vol  fold\n",
       "0   0.738721           3      4.687600     0\n",
       "0   0.932660           2      7.592149     1\n",
       "1   0.780220           2      7.535749     2\n",
       "56  0.865993           4      3.220600     3\n",
       "58  0.932660           4      3.369175     4\n",
       "26  0.866667           4      3.024350     5\n",
       "13  0.866667           2      4.807399     6\n",
       "9   0.866667           2      5.750599     7\n",
       "0   0.664647           2      7.456299     8\n",
       "5   1.000000           3      8.559334     9"
      ]
     },
     "execution_count": 10,
     "metadata": {},
     "output_type": "execute_result"
    }
   ],
   "source": [
    "best_individuals"
   ]
  },
  {
   "cell_type": "code",
   "execution_count": 11,
   "metadata": {},
   "outputs": [
    {
     "data": {
      "text/plain": [
       "fscore          0.851490\n",
       "rule-count      2.800000\n",
       "avg-rule-vol    5.600325\n",
       "dtype: float64"
      ]
     },
     "execution_count": 11,
     "metadata": {},
     "output_type": "execute_result"
    }
   ],
   "source": [
    "best_individuals.drop(columns='fold').mean()"
   ]
  }
 ],
 "metadata": {
  "kernelspec": {
   "display_name": "Python 3",
   "language": "python",
   "name": "python3"
  },
  "language_info": {
   "codemirror_mode": {
    "name": "ipython",
    "version": 3
   },
   "file_extension": ".py",
   "mimetype": "text/x-python",
   "name": "python",
   "nbconvert_exporter": "python",
   "pygments_lexer": "ipython3",
   "version": "3.7.4"
  }
 },
 "nbformat": 4,
 "nbformat_minor": 4
}
