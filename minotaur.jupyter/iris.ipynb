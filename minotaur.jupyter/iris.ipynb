{
 "cells": [
  {
   "cell_type": "markdown",
   "metadata": {},
   "source": [
    "# For reprodutibility, we used the following 'versions' of the code and datasets\n",
    "- MINOTAUR commit used: https://github.com/Mirandatz/minotaur/tree/511ad218c26c864a8258d7426c3c53e95ae630c3\n",
    "- DATASET commit used: https://github.com/Mirandatz/minotaur.datasets/tree/4b8bf15bc2b46884d1e30c8b468ef137bef937ef"
   ]
  },
  {
   "cell_type": "code",
   "execution_count": 1,
   "metadata": {},
   "outputs": [],
   "source": [
    "import subprocess\n",
    "from pathlib import Path\n",
    "\n",
    "import pandas as pd"
   ]
  },
  {
   "cell_type": "code",
   "execution_count": 2,
   "metadata": {},
   "outputs": [],
   "source": [
    "MINOTAUR_LINE_SEP = '==============================================================================='\n",
    "MINOTAUR_PATH =  Path('c:/') / 'source' / 'minotaur' / 'minotaur' / 'minotaur' / 'bin' / 'x64' / 'release' / 'netcoreapp3.0' / 'Minotaur.exe'\n",
    "DATASET_DIR =  Path('c:/') / 'source' / 'minotaur.datasets' / 'iris' / '2-ready-for-minotaur'\n",
    "OUTPUT_DIR = Path.cwd() / 'iris-output'\n",
    "FOLD_COUNT = 10"
   ]
  },
  {
   "cell_type": "code",
   "execution_count": 3,
   "metadata": {},
   "outputs": [],
   "source": [
    "# Create the output directories, if necessary\n",
    "OUTPUT_DIR.mkdir(parents=True, exist_ok=True)\n",
    "        \n",
    "for fold_nr in range(FOLD_COUNT):\n",
    "    fold_output_dir = OUTPUT_DIR / f'fold-{fold_nr}'\n",
    "    fold_output_dir.mkdir(parents=True, exist_ok=True)"
   ]
  },
  {
   "cell_type": "markdown",
   "metadata": {},
   "source": [
    "#### In the next cells we run MINOTAUR for each fold of the dataset.\n",
    "\n",
    "The following command line arguments are mandatory; they are paths to csv files:\n",
    "- `--train-data`\n",
    "- `--train-labels`\n",
    "- `--test-data`\n",
    "- `--test-labels`\n",
    "\n",
    "The train files are used to guide the evolutionary process.\n",
    "The test files are used to compute the final population's fitnesses.\n",
    "\n",
    "The `--output-directory` argument defines a path for MINOTAUR to create its output files, `final-population-fitnesses.txt`, containing the fitnesses of the individuals from the final population, and `final-population-individuals.txt`, containing the individuals from the final population. Both files are stored in a human readable format; each individual is separated by a line of with containing only \"=\" symbols.\n",
    "\n",
    "The `--classification-type` argument defines how the dataset labels should be parsed and how the consequent of rules should be generated / modified. It also defines how some metrics (like FScore) are computed.\n",
    "\n",
    "The remaining arguments are self-explanatory"
   ]
  },
  {
   "cell_type": "code",
   "execution_count": 4,
   "metadata": {},
   "outputs": [],
   "source": [
    "def run_minotaur(formated_args: str):\n",
    "    subprocess_args = str(MINOTAUR_PATH) + ' ' +  formated_args\n",
    "    subprocess.call(subprocess_args)"
   ]
  },
  {
   "cell_type": "code",
   "execution_count": 5,
   "metadata": {},
   "outputs": [
    {
     "name": "stdout",
     "output_type": "stream",
     "text": [
      "Wall time: 8.75 s\n"
     ]
    }
   ],
   "source": [
    "%%time\n",
    "dfs = []\n",
    "for fold_nr in range(FOLD_COUNT):\n",
    "    args = '--train-data=' + str(DATASET_DIR / f'fold-{fold_nr}' / 'train-data.csv')\n",
    "    args += ' --train-labels=' + str(DATASET_DIR / f'fold-{fold_nr}' / 'train-labels.csv')\n",
    "    args += ' --test-data=' + str(DATASET_DIR / f'fold-{fold_nr}' / 'test-data.csv')\n",
    "    args += ' --test-labels=' + str(DATASET_DIR / f'fold-{fold_nr}' / 'test-labels.csv')\n",
    "    args += ' --output-directory=' + str(OUTPUT_DIR / f'fold-{fold_nr}')\n",
    "    args += ' --classification-type=singlelabel'\n",
    "    args += ' --fitness-metrics=fscore'\n",
    "    args += ' --fitness-metrics=average-rule-volume'\n",
    "    args += ' --max-generations=100'\n",
    "    args += ' --population-size=100'\n",
    "    args += ' --mutants-per-generation=150'\n",
    "    args += ' --cfsbe-target-instance-coverage=50'\n",
    "    args += ' --sanity-checks=false'\n",
    "    run_minotaur(args)"
   ]
  },
  {
   "cell_type": "markdown",
   "metadata": {},
   "source": [
    "#### In the next cells we load, parse and post-process the outputs of MINOTAUR \n",
    "One of MINOTAUR's current implementation limitation is that it assumes that all objectives must be maximized, thus, in order to optimize the `rule-count` metric, we must compute is as negative value during the MINOTAUR's execution.\n",
    "In order to make `rule-count` more readable, after we parse it we multiply it by -1 to obtain the correct value."
   ]
  },
  {
   "cell_type": "code",
   "execution_count": 6,
   "metadata": {},
   "outputs": [],
   "source": [
    "def parse_fitnesses(path: Path) -> pd.DataFrame:\n",
    "    # The output of the algorithm, including the fitnesses,\n",
    "    # are stored in a human-readable format, so we must do some \n",
    "    # work to parse it\n",
    "    lines = path.read_text().split('\\n')\n",
    "        \n",
    "    # Removing 'line separators'\n",
    "    lines = [l for l in lines if MINOTAUR_LINE_SEP not in l]\n",
    "    \n",
    "    # Removing the endline, '[' and ']' characters\n",
    "    lines = [l[:-1].replace('[','').replace(']','').split(',') for l in lines]\n",
    "    \n",
    "    # Creating the dataframe, fixing the column names and data types\n",
    "    df = pd.DataFrame(lines)\n",
    "    df = df.rename(columns={0: 'fscore', 1:'avg-rule-vol'})\n",
    "    df = df.astype({'fscore': 'float', 'avg-rule-vol':'float'})\n",
    "    return df"
   ]
  },
  {
   "cell_type": "code",
   "execution_count": 7,
   "metadata": {},
   "outputs": [],
   "source": [
    "for fold_nr in range(FOLD_COUNT):\n",
    "    fold_path = OUTPUT_DIR / f'fold-{fold_nr}' / 'final-population-fitnesses.txt'\n",
    "    df = parse_fitnesses(fold_path)\n",
    "    df['fold'] = fold_nr\n",
    "    dfs.append(df)\n",
    "df = pd.concat(dfs)    "
   ]
  },
  {
   "cell_type": "code",
   "execution_count": 8,
   "metadata": {},
   "outputs": [
    {
     "data": {
      "text/html": [
       "<div>\n",
       "<style scoped>\n",
       "    .dataframe tbody tr th:only-of-type {\n",
       "        vertical-align: middle;\n",
       "    }\n",
       "\n",
       "    .dataframe tbody tr th {\n",
       "        vertical-align: top;\n",
       "    }\n",
       "\n",
       "    .dataframe thead th {\n",
       "        text-align: right;\n",
       "    }\n",
       "</style>\n",
       "<table border=\"1\" class=\"dataframe\">\n",
       "  <thead>\n",
       "    <tr style=\"text-align: right;\">\n",
       "      <th></th>\n",
       "      <th>fscore</th>\n",
       "      <th>avg-rule-vol</th>\n",
       "      <th>fold</th>\n",
       "    </tr>\n",
       "  </thead>\n",
       "  <tbody>\n",
       "    <tr>\n",
       "      <td>0</td>\n",
       "      <td>0.738721</td>\n",
       "      <td>7.283749</td>\n",
       "      <td>0</td>\n",
       "    </tr>\n",
       "    <tr>\n",
       "      <td>1</td>\n",
       "      <td>0.738721</td>\n",
       "      <td>7.283749</td>\n",
       "      <td>0</td>\n",
       "    </tr>\n",
       "    <tr>\n",
       "      <td>2</td>\n",
       "      <td>0.738721</td>\n",
       "      <td>7.283749</td>\n",
       "      <td>0</td>\n",
       "    </tr>\n",
       "    <tr>\n",
       "      <td>3</td>\n",
       "      <td>0.738721</td>\n",
       "      <td>7.283749</td>\n",
       "      <td>0</td>\n",
       "    </tr>\n",
       "    <tr>\n",
       "      <td>4</td>\n",
       "      <td>0.738721</td>\n",
       "      <td>7.283749</td>\n",
       "      <td>0</td>\n",
       "    </tr>\n",
       "  </tbody>\n",
       "</table>\n",
       "</div>"
      ],
      "text/plain": [
       "     fscore  avg-rule-vol  fold\n",
       "0  0.738721      7.283749     0\n",
       "1  0.738721      7.283749     0\n",
       "2  0.738721      7.283749     0\n",
       "3  0.738721      7.283749     0\n",
       "4  0.738721      7.283749     0"
      ]
     },
     "execution_count": 8,
     "metadata": {},
     "output_type": "execute_result"
    }
   ],
   "source": [
    "# Lets take a peek of the dataframe, Each line represents a given individuals fitness in a given fold.\n",
    "df.head()"
   ]
  },
  {
   "cell_type": "code",
   "execution_count": 9,
   "metadata": {},
   "outputs": [],
   "source": [
    "# Here we are select the best individual of each fold, with 'best' meaning highest f-score\n",
    "distinct_values = df.sort_values(by='fscore', ascending=False).drop_duplicates(['fold', 'fscore'])\n",
    "indices_of_best = distinct_values.groupby('fold')['fscore'].transform(max) == distinct_values['fscore']\n",
    "best_individuals = distinct_values[indices_of_best].sort_values(by='fold')"
   ]
  },
  {
   "cell_type": "code",
   "execution_count": 10,
   "metadata": {},
   "outputs": [
    {
     "data": {
      "text/html": [
       "<div>\n",
       "<style scoped>\n",
       "    .dataframe tbody tr th:only-of-type {\n",
       "        vertical-align: middle;\n",
       "    }\n",
       "\n",
       "    .dataframe tbody tr th {\n",
       "        vertical-align: top;\n",
       "    }\n",
       "\n",
       "    .dataframe thead th {\n",
       "        text-align: right;\n",
       "    }\n",
       "</style>\n",
       "<table border=\"1\" class=\"dataframe\">\n",
       "  <thead>\n",
       "    <tr style=\"text-align: right;\">\n",
       "      <th></th>\n",
       "      <th>fscore</th>\n",
       "      <th>avg-rule-vol</th>\n",
       "      <th>fold</th>\n",
       "    </tr>\n",
       "  </thead>\n",
       "  <tbody>\n",
       "    <tr>\n",
       "      <td>0</td>\n",
       "      <td>0.738721</td>\n",
       "      <td>7.283749</td>\n",
       "      <td>0</td>\n",
       "    </tr>\n",
       "    <tr>\n",
       "      <td>98</td>\n",
       "      <td>0.932660</td>\n",
       "      <td>3.373150</td>\n",
       "      <td>1</td>\n",
       "    </tr>\n",
       "    <tr>\n",
       "      <td>72</td>\n",
       "      <td>0.932660</td>\n",
       "      <td>2.412199</td>\n",
       "      <td>2</td>\n",
       "    </tr>\n",
       "    <tr>\n",
       "      <td>94</td>\n",
       "      <td>0.865993</td>\n",
       "      <td>3.562074</td>\n",
       "      <td>3</td>\n",
       "    </tr>\n",
       "    <tr>\n",
       "      <td>93</td>\n",
       "      <td>0.932660</td>\n",
       "      <td>6.980000</td>\n",
       "      <td>4</td>\n",
       "    </tr>\n",
       "    <tr>\n",
       "      <td>0</td>\n",
       "      <td>0.861111</td>\n",
       "      <td>12.196065</td>\n",
       "      <td>5</td>\n",
       "    </tr>\n",
       "    <tr>\n",
       "      <td>19</td>\n",
       "      <td>0.866667</td>\n",
       "      <td>7.408399</td>\n",
       "      <td>6</td>\n",
       "    </tr>\n",
       "    <tr>\n",
       "      <td>88</td>\n",
       "      <td>0.866667</td>\n",
       "      <td>2.161300</td>\n",
       "      <td>7</td>\n",
       "    </tr>\n",
       "    <tr>\n",
       "      <td>55</td>\n",
       "      <td>0.796296</td>\n",
       "      <td>4.665333</td>\n",
       "      <td>8</td>\n",
       "    </tr>\n",
       "    <tr>\n",
       "      <td>54</td>\n",
       "      <td>0.870370</td>\n",
       "      <td>3.277750</td>\n",
       "      <td>9</td>\n",
       "    </tr>\n",
       "  </tbody>\n",
       "</table>\n",
       "</div>"
      ],
      "text/plain": [
       "      fscore  avg-rule-vol  fold\n",
       "0   0.738721      7.283749     0\n",
       "98  0.932660      3.373150     1\n",
       "72  0.932660      2.412199     2\n",
       "94  0.865993      3.562074     3\n",
       "93  0.932660      6.980000     4\n",
       "0   0.861111     12.196065     5\n",
       "19  0.866667      7.408399     6\n",
       "88  0.866667      2.161300     7\n",
       "55  0.796296      4.665333     8\n",
       "54  0.870370      3.277750     9"
      ]
     },
     "execution_count": 10,
     "metadata": {},
     "output_type": "execute_result"
    }
   ],
   "source": [
    "best_individuals"
   ]
  },
  {
   "cell_type": "code",
   "execution_count": 11,
   "metadata": {},
   "outputs": [
    {
     "data": {
      "text/plain": [
       "fscore    0.866381\n",
       "dtype: float64"
      ]
     },
     "execution_count": 11,
     "metadata": {},
     "output_type": "execute_result"
    }
   ],
   "source": [
    "best_individuals.drop(columns=['fold', 'avg-rule-vol']).mean()"
   ]
  }
 ],
 "metadata": {
  "kernelspec": {
   "display_name": "Python 3",
   "language": "python",
   "name": "python3"
  },
  "language_info": {
   "codemirror_mode": {
    "name": "ipython",
    "version": 3
   },
   "file_extension": ".py",
   "mimetype": "text/x-python",
   "name": "python",
   "nbconvert_exporter": "python",
   "pygments_lexer": "ipython3",
   "version": "3.7.4"
  }
 },
 "nbformat": 4,
 "nbformat_minor": 4
}
