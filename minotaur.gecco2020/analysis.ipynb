{
 "cells": [
  {
   "cell_type": "markdown",
   "metadata": {},
   "source": [
    "# For reproducibility purposes: we used the following 'repository versions'\n",
    "- MINOTAUR: https://github.com/Mirandatz/minotaur/tree/10ef885019e86dd4ff659584ae3445a5f6c3d076\n",
    "- Datasets and scripts used in pre-processing: https://github.com/Mirandatz/minotaur.datasets/tree/82b2a67206cdcc352160ba842d71c4d6021531e0\n",
    "- Python scripts used to run MINOTAUR: https://github.com/Mirandatz/minotaur.experiments/blob/fd9e9e53a5305b0aff547923ba7e50415dcdaa44/minotaur.python/main.py"
   ]
  },
  {
   "cell_type": "code",
   "execution_count": 1,
   "metadata": {},
   "outputs": [],
   "source": [
    "from pathlib import Path\n",
    "from typing import Iterable, Dict\n",
    "from itertools import product\n",
    "\n",
    "import pandas as pd\n",
    "import numpy as np"
   ]
  },
  {
   "cell_type": "code",
   "execution_count": 2,
   "metadata": {},
   "outputs": [],
   "source": [
    "FOLD_COUNT = 10\n",
    "SINGLE_LABEL_DATASETS = ['iris', 'breast-cancer-wisconsin', 'wine', 'madelon']\n",
    "MULTI_LABEL_DATASETS = ['yeast', 'emotions', 'scene', 'CAL500']\n",
    "MINOTAUR_OUTPUT_DIR = Path('c:/') / 'source' / 'minotaur.output'"
   ]
  },
  {
   "cell_type": "markdown",
   "metadata": {},
   "source": [
    "We ran MINOTAUR multiple times on each dataset, changing the value of the 'cfsbe-target-instance-coverage' hyperparameter.\n",
    "\n",
    "The results of each run are stored in different directories, with the last part of the directory name indicating the hyperparameter value used.\n",
    "\n",
    "E.g.: in the directory 'iris-cfsbe-16' we have the results of running MINOTAUR with --cfsbe-target-instance-coverage=16\n",
    "\n",
    "The function below is used to query which values were used for a given dataset"
   ]
  },
  {
   "cell_type": "code",
   "execution_count": 3,
   "metadata": {},
   "outputs": [],
   "source": [
    "def get_cfsbe_values(dataset_name: str) -> Iterable[int]:\n",
    "    dataset_dir = MINOTAUR_OUTPUT_DIR / dataset_name\n",
    "    sub_directories = dataset_dir.glob('*')\n",
    "    for sub_dir in map(str, sub_directories):\n",
    "        sub_dir_parts = sub_dir.split('-')\n",
    "        yield int(sub_dir_parts[-1])"
   ]
  },
  {
   "cell_type": "code",
   "execution_count": 4,
   "metadata": {},
   "outputs": [],
   "source": [
    "def parse_minotaur_output(dataset_name: str, cfsbe_value: int, fold_nr: int) -> pd.DataFrame:\n",
    "    # The script used to run MINOTAUR redundantly stores the dataset filename (a bunch of times) in the directory hierarchy \n",
    "    csv_path = MINOTAUR_OUTPUT_DIR / dataset_name\n",
    "    csv_path = csv_path / f'{dataset_name}-cfsbe-{cfsbe_value}'\n",
    "    csv_path = csv_path / dataset_name / f'fold-{fold_nr}' / 'generations_log.csv'    \n",
    "    \n",
    "    # We skip the first row because it contains the header...\n",
    "    # The header is rather useless, since MINOTAUR doesn't write which metrics are used \n",
    "    # in the train dataset and which are used in the test dataset.\n",
    "    column_names = ['generation', 'id', 'parent_id', 'train_fitness', 'test_fitness']\n",
    "    column_types = {'generation':'int32',\n",
    "                    'id':'int64',\n",
    "                    'parent_id':'int64',\n",
    "                    'train_fitness':'float32',\n",
    "                    'test_fitness':'float32'}\n",
    "    \n",
    "    df = pd.read_csv(filepath_or_buffer=csv_path, skiprows=1, header=None,\n",
    "                     names=column_names,\n",
    "                     dtype=column_types)\n",
    "    df['cfsbe_value'] = int(cfsbe_value)\n",
    "    return df"
   ]
  },
  {
   "cell_type": "code",
   "execution_count": 5,
   "metadata": {},
   "outputs": [],
   "source": [
    "def get_cross_fold_fitness(dataset_name: str, cfsbe_value:int) -> float:\n",
    "    cv_best = []\n",
    "    for fold_nr in range(FOLD_COUNT):\n",
    "        df = parse_minotaur_output(dataset_name=dataset_name,\n",
    "                                   cfsbe_value=cfsbe_value,\n",
    "                                   fold_nr=fold_nr)\n",
    "        fold_best = df['test_fitness'].max()\n",
    "        cv_best.append(fold_best)\n",
    "    \n",
    "    return np.mean(cv_best)"
   ]
  },
  {
   "cell_type": "code",
   "execution_count": 6,
   "metadata": {},
   "outputs": [],
   "source": [
    "def get_cfsbe_values_and_fitnesses(dataset_name: str) -> Dict[int, float]:\n",
    "    cfsbe_values = get_cfsbe_values(dataset_name)\n",
    "    cfsbe_and_fitnesses = {}\n",
    "    for cfsbe_value in cfsbe_values:\n",
    "        cfsbe_and_fitnesses[cfsbe_value] = get_cross_fold_fitness(dataset_name=dataset_name,\n",
    "                                                                  cfsbe_value=cfsbe_value)\n",
    "    return cfsbe_and_fitnesses"
   ]
  },
  {
   "cell_type": "code",
   "execution_count": 7,
   "metadata": {},
   "outputs": [
    {
     "data": {
      "text/html": [
       "<style  type=\"text/css\" >\n",
       "</style><table id=\"T_82745b82_2e35_11ea_94dd_485b39424161\" ><thead>    <tr>        <th class=\"blank level0\" ></th>        <th class=\"col_heading level0 col0\" >iris</th>        <th class=\"col_heading level0 col1\" >breast-cancer-wisconsin</th>        <th class=\"col_heading level0 col2\" >wine</th>        <th class=\"col_heading level0 col3\" >madelon</th>    </tr>    <tr>        <th class=\"index_name level0\" >cfsbe_value</th>        <th class=\"blank\" ></th>        <th class=\"blank\" ></th>        <th class=\"blank\" ></th>        <th class=\"blank\" ></th>    </tr></thead><tbody>\n",
       "                <tr>\n",
       "                        <th id=\"T_82745b82_2e35_11ea_94dd_485b39424161level0_row0\" class=\"row_heading level0 row0\" >2</th>\n",
       "                        <td id=\"T_82745b82_2e35_11ea_94dd_485b39424161row0_col0\" class=\"data row0 col0\" >0.51</td>\n",
       "                        <td id=\"T_82745b82_2e35_11ea_94dd_485b39424161row0_col1\" class=\"data row0 col1\" >0.56</td>\n",
       "                        <td id=\"T_82745b82_2e35_11ea_94dd_485b39424161row0_col2\" class=\"data row0 col2\" >0.24</td>\n",
       "                        <td id=\"T_82745b82_2e35_11ea_94dd_485b39424161row0_col3\" class=\"data row0 col3\" >0.33</td>\n",
       "            </tr>\n",
       "            <tr>\n",
       "                        <th id=\"T_82745b82_2e35_11ea_94dd_485b39424161level0_row1\" class=\"row_heading level0 row1\" >8</th>\n",
       "                        <td id=\"T_82745b82_2e35_11ea_94dd_485b39424161row1_col0\" class=\"data row1 col0\" >0.85</td>\n",
       "                        <td id=\"T_82745b82_2e35_11ea_94dd_485b39424161row1_col1\" class=\"data row1 col1\" >0.77</td>\n",
       "                        <td id=\"T_82745b82_2e35_11ea_94dd_485b39424161row1_col2\" class=\"data row1 col2\" >0.47</td>\n",
       "                        <td id=\"T_82745b82_2e35_11ea_94dd_485b39424161row1_col3\" class=\"data row1 col3\" >-</td>\n",
       "            </tr>\n",
       "            <tr>\n",
       "                        <th id=\"T_82745b82_2e35_11ea_94dd_485b39424161level0_row2\" class=\"row_heading level0 row2\" >16</th>\n",
       "                        <td id=\"T_82745b82_2e35_11ea_94dd_485b39424161row2_col0\" class=\"data row2 col0\" >0.89</td>\n",
       "                        <td id=\"T_82745b82_2e35_11ea_94dd_485b39424161row2_col1\" class=\"data row2 col1\" >0.90</td>\n",
       "                        <td id=\"T_82745b82_2e35_11ea_94dd_485b39424161row2_col2\" class=\"data row2 col2\" >0.65</td>\n",
       "                        <td id=\"T_82745b82_2e35_11ea_94dd_485b39424161row2_col3\" class=\"data row2 col3\" >0.33</td>\n",
       "            </tr>\n",
       "            <tr>\n",
       "                        <th id=\"T_82745b82_2e35_11ea_94dd_485b39424161level0_row3\" class=\"row_heading level0 row3\" >32</th>\n",
       "                        <td id=\"T_82745b82_2e35_11ea_94dd_485b39424161row3_col0\" class=\"data row3 col0\" >0.93</td>\n",
       "                        <td id=\"T_82745b82_2e35_11ea_94dd_485b39424161row3_col1\" class=\"data row3 col1\" >0.94</td>\n",
       "                        <td id=\"T_82745b82_2e35_11ea_94dd_485b39424161row3_col2\" class=\"data row3 col2\" >0.85</td>\n",
       "                        <td id=\"T_82745b82_2e35_11ea_94dd_485b39424161row3_col3\" class=\"data row3 col3\" >-</td>\n",
       "            </tr>\n",
       "            <tr>\n",
       "                        <th id=\"T_82745b82_2e35_11ea_94dd_485b39424161level0_row4\" class=\"row_heading level0 row4\" >64</th>\n",
       "                        <td id=\"T_82745b82_2e35_11ea_94dd_485b39424161row4_col0\" class=\"data row4 col0\" >0.93</td>\n",
       "                        <td id=\"T_82745b82_2e35_11ea_94dd_485b39424161row4_col1\" class=\"data row4 col1\" >0.96</td>\n",
       "                        <td id=\"T_82745b82_2e35_11ea_94dd_485b39424161row4_col2\" class=\"data row4 col2\" >0.91</td>\n",
       "                        <td id=\"T_82745b82_2e35_11ea_94dd_485b39424161row4_col3\" class=\"data row4 col3\" >0.33</td>\n",
       "            </tr>\n",
       "            <tr>\n",
       "                        <th id=\"T_82745b82_2e35_11ea_94dd_485b39424161level0_row5\" class=\"row_heading level0 row5\" >128</th>\n",
       "                        <td id=\"T_82745b82_2e35_11ea_94dd_485b39424161row5_col0\" class=\"data row5 col0\" >0.87</td>\n",
       "                        <td id=\"T_82745b82_2e35_11ea_94dd_485b39424161row5_col1\" class=\"data row5 col1\" >0.97</td>\n",
       "                        <td id=\"T_82745b82_2e35_11ea_94dd_485b39424161row5_col2\" class=\"data row5 col2\" >-</td>\n",
       "                        <td id=\"T_82745b82_2e35_11ea_94dd_485b39424161row5_col3\" class=\"data row5 col3\" >0.34</td>\n",
       "            </tr>\n",
       "            <tr>\n",
       "                        <th id=\"T_82745b82_2e35_11ea_94dd_485b39424161level0_row6\" class=\"row_heading level0 row6\" >256</th>\n",
       "                        <td id=\"T_82745b82_2e35_11ea_94dd_485b39424161row6_col0\" class=\"data row6 col0\" >-</td>\n",
       "                        <td id=\"T_82745b82_2e35_11ea_94dd_485b39424161row6_col1\" class=\"data row6 col1\" >0.97</td>\n",
       "                        <td id=\"T_82745b82_2e35_11ea_94dd_485b39424161row6_col2\" class=\"data row6 col2\" >-</td>\n",
       "                        <td id=\"T_82745b82_2e35_11ea_94dd_485b39424161row6_col3\" class=\"data row6 col3\" >0.38</td>\n",
       "            </tr>\n",
       "            <tr>\n",
       "                        <th id=\"T_82745b82_2e35_11ea_94dd_485b39424161level0_row7\" class=\"row_heading level0 row7\" >512</th>\n",
       "                        <td id=\"T_82745b82_2e35_11ea_94dd_485b39424161row7_col0\" class=\"data row7 col0\" >-</td>\n",
       "                        <td id=\"T_82745b82_2e35_11ea_94dd_485b39424161row7_col1\" class=\"data row7 col1\" >-</td>\n",
       "                        <td id=\"T_82745b82_2e35_11ea_94dd_485b39424161row7_col2\" class=\"data row7 col2\" >-</td>\n",
       "                        <td id=\"T_82745b82_2e35_11ea_94dd_485b39424161row7_col3\" class=\"data row7 col3\" >0.48</td>\n",
       "            </tr>\n",
       "            <tr>\n",
       "                        <th id=\"T_82745b82_2e35_11ea_94dd_485b39424161level0_row8\" class=\"row_heading level0 row8\" >1024</th>\n",
       "                        <td id=\"T_82745b82_2e35_11ea_94dd_485b39424161row8_col0\" class=\"data row8 col0\" >-</td>\n",
       "                        <td id=\"T_82745b82_2e35_11ea_94dd_485b39424161row8_col1\" class=\"data row8 col1\" >-</td>\n",
       "                        <td id=\"T_82745b82_2e35_11ea_94dd_485b39424161row8_col2\" class=\"data row8 col2\" >-</td>\n",
       "                        <td id=\"T_82745b82_2e35_11ea_94dd_485b39424161row8_col3\" class=\"data row8 col3\" >0.57</td>\n",
       "            </tr>\n",
       "            <tr>\n",
       "                        <th id=\"T_82745b82_2e35_11ea_94dd_485b39424161level0_row9\" class=\"row_heading level0 row9\" >2048</th>\n",
       "                        <td id=\"T_82745b82_2e35_11ea_94dd_485b39424161row9_col0\" class=\"data row9 col0\" >-</td>\n",
       "                        <td id=\"T_82745b82_2e35_11ea_94dd_485b39424161row9_col1\" class=\"data row9 col1\" >-</td>\n",
       "                        <td id=\"T_82745b82_2e35_11ea_94dd_485b39424161row9_col2\" class=\"data row9 col2\" >-</td>\n",
       "                        <td id=\"T_82745b82_2e35_11ea_94dd_485b39424161row9_col3\" class=\"data row9 col3\" >0.56</td>\n",
       "            </tr>\n",
       "    </tbody></table>"
      ],
      "text/plain": [
       "<pandas.io.formats.style.Styler at 0x25a4b358ca0>"
      ]
     },
     "execution_count": 7,
     "metadata": {},
     "output_type": "execute_result"
    }
   ],
   "source": [
    "single_label_datasets_fitnesses = {name: get_cfsbe_values_and_fitnesses(name) for name in SINGLE_LABEL_DATASETS}\n",
    "\n",
    "sl_df = pd.DataFrame(data=single_label_datasets_fitnesses)\n",
    "sl_df = sl_df.sort_index()\n",
    "sl_df.index.name = 'cfsbe_value'\n",
    "sl_df.style.format(lambda x: '-' if pd.isnull(x) else f'{x:.2f}')"
   ]
  },
  {
   "cell_type": "code",
   "execution_count": 8,
   "metadata": {},
   "outputs": [
    {
     "data": {
      "text/html": [
       "<style  type=\"text/css\" >\n",
       "</style><table id=\"T_85c1d8bd_2e35_11ea_8d02_485b39424161\" ><thead>    <tr>        <th class=\"blank level0\" ></th>        <th class=\"col_heading level0 col0\" >yeast</th>        <th class=\"col_heading level0 col1\" >emotions</th>        <th class=\"col_heading level0 col2\" >scene</th>        <th class=\"col_heading level0 col3\" >CAL500</th>    </tr>    <tr>        <th class=\"index_name level0\" >cfsbe_value</th>        <th class=\"blank\" ></th>        <th class=\"blank\" ></th>        <th class=\"blank\" ></th>        <th class=\"blank\" ></th>    </tr></thead><tbody>\n",
       "                <tr>\n",
       "                        <th id=\"T_85c1d8bd_2e35_11ea_8d02_485b39424161level0_row0\" class=\"row_heading level0 row0\" >2</th>\n",
       "                        <td id=\"T_85c1d8bd_2e35_11ea_8d02_485b39424161row0_col0\" class=\"data row0 col0\" >0.48</td>\n",
       "                        <td id=\"T_85c1d8bd_2e35_11ea_8d02_485b39424161row0_col1\" class=\"data row0 col1\" >0.00</td>\n",
       "                        <td id=\"T_85c1d8bd_2e35_11ea_8d02_485b39424161row0_col2\" class=\"data row0 col2\" >0.01</td>\n",
       "                        <td id=\"T_85c1d8bd_2e35_11ea_8d02_485b39424161row0_col3\" class=\"data row0 col3\" >0.30</td>\n",
       "            </tr>\n",
       "            <tr>\n",
       "                        <th id=\"T_85c1d8bd_2e35_11ea_8d02_485b39424161level0_row1\" class=\"row_heading level0 row1\" >8</th>\n",
       "                        <td id=\"T_85c1d8bd_2e35_11ea_8d02_485b39424161row1_col0\" class=\"data row1 col0\" >0.48</td>\n",
       "                        <td id=\"T_85c1d8bd_2e35_11ea_8d02_485b39424161row1_col1\" class=\"data row1 col1\" >0.00</td>\n",
       "                        <td id=\"T_85c1d8bd_2e35_11ea_8d02_485b39424161row1_col2\" class=\"data row1 col2\" >0.01</td>\n",
       "                        <td id=\"T_85c1d8bd_2e35_11ea_8d02_485b39424161row1_col3\" class=\"data row1 col3\" >0.30</td>\n",
       "            </tr>\n",
       "            <tr>\n",
       "                        <th id=\"T_85c1d8bd_2e35_11ea_8d02_485b39424161level0_row2\" class=\"row_heading level0 row2\" >16</th>\n",
       "                        <td id=\"T_85c1d8bd_2e35_11ea_8d02_485b39424161row2_col0\" class=\"data row2 col0\" >0.48</td>\n",
       "                        <td id=\"T_85c1d8bd_2e35_11ea_8d02_485b39424161row2_col1\" class=\"data row2 col1\" >0.05</td>\n",
       "                        <td id=\"T_85c1d8bd_2e35_11ea_8d02_485b39424161row2_col2\" class=\"data row2 col2\" >0.01</td>\n",
       "                        <td id=\"T_85c1d8bd_2e35_11ea_8d02_485b39424161row2_col3\" class=\"data row2 col3\" >0.31</td>\n",
       "            </tr>\n",
       "            <tr>\n",
       "                        <th id=\"T_85c1d8bd_2e35_11ea_8d02_485b39424161level0_row3\" class=\"row_heading level0 row3\" >32</th>\n",
       "                        <td id=\"T_85c1d8bd_2e35_11ea_8d02_485b39424161row3_col0\" class=\"data row3 col0\" >0.48</td>\n",
       "                        <td id=\"T_85c1d8bd_2e35_11ea_8d02_485b39424161row3_col1\" class=\"data row3 col1\" >0.12</td>\n",
       "                        <td id=\"T_85c1d8bd_2e35_11ea_8d02_485b39424161row3_col2\" class=\"data row3 col2\" >0.02</td>\n",
       "                        <td id=\"T_85c1d8bd_2e35_11ea_8d02_485b39424161row3_col3\" class=\"data row3 col3\" >0.32</td>\n",
       "            </tr>\n",
       "            <tr>\n",
       "                        <th id=\"T_85c1d8bd_2e35_11ea_8d02_485b39424161level0_row4\" class=\"row_heading level0 row4\" >64</th>\n",
       "                        <td id=\"T_85c1d8bd_2e35_11ea_8d02_485b39424161row4_col0\" class=\"data row4 col0\" >0.49</td>\n",
       "                        <td id=\"T_85c1d8bd_2e35_11ea_8d02_485b39424161row4_col1\" class=\"data row4 col1\" >0.27</td>\n",
       "                        <td id=\"T_85c1d8bd_2e35_11ea_8d02_485b39424161row4_col2\" class=\"data row4 col2\" >0.04</td>\n",
       "                        <td id=\"T_85c1d8bd_2e35_11ea_8d02_485b39424161row4_col3\" class=\"data row4 col3\" >0.32</td>\n",
       "            </tr>\n",
       "            <tr>\n",
       "                        <th id=\"T_85c1d8bd_2e35_11ea_8d02_485b39424161level0_row5\" class=\"row_heading level0 row5\" >128</th>\n",
       "                        <td id=\"T_85c1d8bd_2e35_11ea_8d02_485b39424161row5_col0\" class=\"data row5 col0\" >0.51</td>\n",
       "                        <td id=\"T_85c1d8bd_2e35_11ea_8d02_485b39424161row5_col1\" class=\"data row5 col1\" >0.41</td>\n",
       "                        <td id=\"T_85c1d8bd_2e35_11ea_8d02_485b39424161row5_col2\" class=\"data row5 col2\" >0.12</td>\n",
       "                        <td id=\"T_85c1d8bd_2e35_11ea_8d02_485b39424161row5_col3\" class=\"data row5 col3\" >0.33</td>\n",
       "            </tr>\n",
       "            <tr>\n",
       "                        <th id=\"T_85c1d8bd_2e35_11ea_8d02_485b39424161level0_row6\" class=\"row_heading level0 row6\" >256</th>\n",
       "                        <td id=\"T_85c1d8bd_2e35_11ea_8d02_485b39424161row6_col0\" class=\"data row6 col0\" >0.53</td>\n",
       "                        <td id=\"T_85c1d8bd_2e35_11ea_8d02_485b39424161row6_col1\" class=\"data row6 col1\" >0.47</td>\n",
       "                        <td id=\"T_85c1d8bd_2e35_11ea_8d02_485b39424161row6_col2\" class=\"data row6 col2\" >0.27</td>\n",
       "                        <td id=\"T_85c1d8bd_2e35_11ea_8d02_485b39424161row6_col3\" class=\"data row6 col3\" >0.34</td>\n",
       "            </tr>\n",
       "            <tr>\n",
       "                        <th id=\"T_85c1d8bd_2e35_11ea_8d02_485b39424161level0_row7\" class=\"row_heading level0 row7\" >512</th>\n",
       "                        <td id=\"T_85c1d8bd_2e35_11ea_8d02_485b39424161row7_col0\" class=\"data row7 col0\" >0.55</td>\n",
       "                        <td id=\"T_85c1d8bd_2e35_11ea_8d02_485b39424161row7_col1\" class=\"data row7 col1\" >0.47</td>\n",
       "                        <td id=\"T_85c1d8bd_2e35_11ea_8d02_485b39424161row7_col2\" class=\"data row7 col2\" >0.31</td>\n",
       "                        <td id=\"T_85c1d8bd_2e35_11ea_8d02_485b39424161row7_col3\" class=\"data row7 col3\" >-</td>\n",
       "            </tr>\n",
       "            <tr>\n",
       "                        <th id=\"T_85c1d8bd_2e35_11ea_8d02_485b39424161level0_row8\" class=\"row_heading level0 row8\" >1024</th>\n",
       "                        <td id=\"T_85c1d8bd_2e35_11ea_8d02_485b39424161row8_col0\" class=\"data row8 col0\" >0.54</td>\n",
       "                        <td id=\"T_85c1d8bd_2e35_11ea_8d02_485b39424161row8_col1\" class=\"data row8 col1\" >-</td>\n",
       "                        <td id=\"T_85c1d8bd_2e35_11ea_8d02_485b39424161row8_col2\" class=\"data row8 col2\" >0.31</td>\n",
       "                        <td id=\"T_85c1d8bd_2e35_11ea_8d02_485b39424161row8_col3\" class=\"data row8 col3\" >-</td>\n",
       "            </tr>\n",
       "            <tr>\n",
       "                        <th id=\"T_85c1d8bd_2e35_11ea_8d02_485b39424161level0_row9\" class=\"row_heading level0 row9\" >2048</th>\n",
       "                        <td id=\"T_85c1d8bd_2e35_11ea_8d02_485b39424161row9_col0\" class=\"data row9 col0\" >0.54</td>\n",
       "                        <td id=\"T_85c1d8bd_2e35_11ea_8d02_485b39424161row9_col1\" class=\"data row9 col1\" >-</td>\n",
       "                        <td id=\"T_85c1d8bd_2e35_11ea_8d02_485b39424161row9_col2\" class=\"data row9 col2\" >0.34</td>\n",
       "                        <td id=\"T_85c1d8bd_2e35_11ea_8d02_485b39424161row9_col3\" class=\"data row9 col3\" >-</td>\n",
       "            </tr>\n",
       "    </tbody></table>"
      ],
      "text/plain": [
       "<pandas.io.formats.style.Styler at 0x25a4b76e2e0>"
      ]
     },
     "execution_count": 8,
     "metadata": {},
     "output_type": "execute_result"
    }
   ],
   "source": [
    "multi_label_datasets_fitnesses = {name: get_cfsbe_values_and_fitnesses(name) for name in MULTI_LABEL_DATASETS}\n",
    "\n",
    "ml_df = pd.DataFrame(data=multi_label_datasets_fitnesses)\n",
    "ml_df = ml_df.sort_index()\n",
    "ml_df.index.name = 'cfsbe_value'\n",
    "ml_df.style.format(lambda x: '-' if pd.isnull(x) else f'{x:.2f}')"
   ]
  }
 ],
 "metadata": {
  "kernelspec": {
   "display_name": "Python 3",
   "language": "python",
   "name": "python3"
  },
  "language_info": {
   "codemirror_mode": {
    "name": "ipython",
    "version": 3
   },
   "file_extension": ".py",
   "mimetype": "text/x-python",
   "name": "python",
   "nbconvert_exporter": "python",
   "pygments_lexer": "ipython3",
   "version": "3.8.1"
  }
 },
 "nbformat": 4,
 "nbformat_minor": 4
}
