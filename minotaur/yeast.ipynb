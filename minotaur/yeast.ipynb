{
 "cells": [
  {
   "cell_type": "markdown",
   "metadata": {},
   "source": [
    "# For reprodutibility, we used the following 'versions' of the code and datasets\n",
    "- MINOTAUR commit used: https://github.com/Mirandatz/minotaur/tree/6a045d5ec7de720804f2d820dae701ca1420235b\n",
    "- DATASET commit used: https://github.com/Mirandatz/minotaur.datasets/tree/7c845a28274ccf858097ddd1578fd9624aa957d5"
   ]
  },
  {
   "cell_type": "code",
   "execution_count": 1,
   "metadata": {},
   "outputs": [],
   "source": [
    "import subprocess\n",
    "from pathlib import Path\n",
    "\n",
    "import pandas as pd"
   ]
  },
  {
   "cell_type": "code",
   "execution_count": 2,
   "metadata": {},
   "outputs": [],
   "source": [
    "MINOTAUR_LINE_SEP = '==============================================================================='\n",
    "MINOTAUR_PATH =  Path('c:/') / 'source' / 'minotaur' / 'minotaur' / 'minotaur' / 'bin' / 'x64' / 'release' / 'netcoreapp3.0' / 'Minotaur.exe'\n",
    "DATASET_DIR =  Path('c:/') / 'source' / 'minotaur.datasets' / 'yeast' / '2-ready-for-minotaur'\n",
    "OUTPUT_DIR = Path.cwd() / 'yeast-output'\n",
    "FOLD_COUNT = 10"
   ]
  },
  {
   "cell_type": "code",
   "execution_count": 3,
   "metadata": {},
   "outputs": [],
   "source": [
    "# Create the output directories, if necessary\n",
    "OUTPUT_DIR.mkdir(parents=True, exist_ok=True)\n",
    "        \n",
    "for fold_nr in range(FOLD_COUNT):\n",
    "    fold_output_dir = OUTPUT_DIR / f'fold-{fold_nr}'\n",
    "    fold_output_dir.mkdir(parents=True, exist_ok=True)"
   ]
  },
  {
   "cell_type": "markdown",
   "metadata": {},
   "source": [
    "#### In the next cells we run MINOTAUR for each fold of the dataset.\n",
    "\n",
    "The following command line arguments are mandatory; they are paths to csv files:\n",
    "- `--train-data`\n",
    "- `--train-labels`\n",
    "- `--test-data`\n",
    "- `--test-labels`\n",
    "\n",
    "The train files are used to guide the evolutionary process.\n",
    "The test files are used to compute the final population's fitnesses.\n",
    "\n",
    "The `--output-directory` argument defines a path for MINOTAUR to create its output files, `final-population-fitnesses.txt`, containing the fitnesses of the individuals from the final population, and `final-population-individuals.txt`, containing the individuals from the final population. Both files are stored in a human readable format; each individual is separated by a line of with containing only \"=\" symbols.\n",
    "\n",
    "The `--classification-type` argument defines how the dataset labels should be parsed and how the consequent of rules should be generated / modified. It also defines how some metrics (like FScore) are computed.\n",
    "\n",
    "The remaining arguments are self-explanatory"
   ]
  },
  {
   "cell_type": "code",
   "execution_count": 4,
   "metadata": {},
   "outputs": [],
   "source": [
    "def run_minotaur(formated_args: str):\n",
    "    subprocess_args = str(MINOTAUR_PATH) + ' ' +  formated_args\n",
    "    subprocess.call(subprocess_args)"
   ]
  },
  {
   "cell_type": "code",
   "execution_count": null,
   "metadata": {},
   "outputs": [],
   "source": [
    "%%time\n",
    "dfs = []\n",
    "for fold_nr in range(FOLD_COUNT):\n",
    "    args = '--train-data=' + str(DATASET_DIR / f'fold-{fold_nr}' / 'train-data.csv')\n",
    "    args += ' --train-labels=' + str(DATASET_DIR / f'fold-{fold_nr}' / 'train-labels.csv')\n",
    "    args += ' --test-data=' + str(DATASET_DIR / f'fold-{fold_nr}' / 'test-data.csv')\n",
    "    args += ' --test-labels=' + str(DATASET_DIR / f'fold-{fold_nr}' / 'test-labels.csv')\n",
    "    args += ' --output-directory=' + str(OUTPUT_DIR / f'fold-{fold_nr}')\n",
    "    args += ' --classification-type=multilabel'\n",
    "    args += ' --fitness-metrics=fscore'\n",
    "    args += ' --fitness-metrics=average-rule-volume'\n",
    "    args += ' --max-generations=100'\n",
    "    args += ' --population-size=50'\n",
    "    args += ' --mutants-per-generation=100'\n",
    "    args += ' --cache-size-fitnesses=200'\n",
    "    run_minotaur(args)"
   ]
  },
  {
   "cell_type": "markdown",
   "metadata": {},
   "source": [
    "#### In the next cells we load, parse and post-process the outputs of MINOTAUR \n",
    "One of MINOTAUR's current implementation limitation is that it assumes that all objectives must be maximized, thus, in order to optimize the `rule-count` metric, we must compute is as negative value during the MINOTAUR's execution.\n",
    "In order to make `rule-count` more readable, after we parse it we multiply it by -1 to obtain the correct value."
   ]
  },
  {
   "cell_type": "code",
   "execution_count": null,
   "metadata": {},
   "outputs": [],
   "source": [
    "def parse_fitnesses(path: Path) -> pd.DataFrame:\n",
    "    # The output of the algorithm, including the fitnesses,\n",
    "    # are stored in a human-readable format, so we must do some \n",
    "    # work to parse it\n",
    "    lines = path.read_text().split('\\n')\n",
    "        \n",
    "    # Removing 'line separators'\n",
    "    lines = [l for l in lines if MINOTAUR_LINE_SEP not in l]\n",
    "    \n",
    "    # Removing the endline, '[' and ']' characters\n",
    "    lines = [l[:-1].replace('[','').replace(']','').split(',') for l in lines]\n",
    "    \n",
    "    # Creating the dataframe, fixing the column names and data types\n",
    "    df = pd.DataFrame(lines)\n",
    "    df = df.rename(columns={0: 'fscore', 1:'avg-rule-vol'})\n",
    "    df = df.astype({'fscore': 'float', 'avg-rule-vol':'float'})\n",
    "    return df"
   ]
  },
  {
   "cell_type": "code",
   "execution_count": null,
   "metadata": {},
   "outputs": [],
   "source": [
    "for fold_nr in range(FOLD_COUNT):\n",
    "    fold_path = OUTPUT_DIR / f'fold-{fold_nr}' / 'final-population-fitnesses.txt'\n",
    "    df = parse_fitnesses(fold_path)\n",
    "    df['fold'] = fold_nr\n",
    "    dfs.append(df)\n",
    "df = pd.concat(dfs)"
   ]
  },
  {
   "cell_type": "code",
   "execution_count": null,
   "metadata": {},
   "outputs": [],
   "source": [
    "# Lets take a peek of the dataframe, Each line represents a given individuals fitness in a given fold.\n",
    "df.head()"
   ]
  },
  {
   "cell_type": "code",
   "execution_count": null,
   "metadata": {},
   "outputs": [],
   "source": [
    "# Here we are select the best individual of each fold, with 'best' meaning highest f-score\n",
    "distinct_values = df.sort_values(by='fscore', ascending=False).drop_duplicates(['fold', 'fscore'])\n",
    "indices_of_best = distinct_values.groupby('fold')['fscore'].transform(max) == distinct_values['fscore']\n",
    "best_individuals = distinct_values[indices_of_best].sort_values(by='fold')"
   ]
  },
  {
   "cell_type": "code",
   "execution_count": null,
   "metadata": {},
   "outputs": [],
   "source": [
    "best_individuals"
   ]
  },
  {
   "cell_type": "code",
   "execution_count": null,
   "metadata": {},
   "outputs": [],
   "source": [
    "best_individuals.drop(columns=['fold', 'avg-rule-vol']).mean()"
   ]
  }
 ],
 "metadata": {
  "kernelspec": {
   "display_name": "Python 3",
   "language": "python",
   "name": "python3"
  },
  "language_info": {
   "codemirror_mode": {
    "name": "ipython",
    "version": 3
   },
   "file_extension": ".py",
   "mimetype": "text/x-python",
   "name": "python",
   "nbconvert_exporter": "python",
   "pygments_lexer": "ipython3",
   "version": "3.7.4"
  }
 },
 "nbformat": 4,
 "nbformat_minor": 4
}
